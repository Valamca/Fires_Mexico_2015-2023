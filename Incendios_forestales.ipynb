{
 "cells": [
  {
   "cell_type": "markdown",
   "metadata": {},
   "source": [
    "## Ambiente Inicial"
   ]
  },
  {
   "cell_type": "code",
   "execution_count": 1,
   "metadata": {},
   "outputs": [],
   "source": [
    "# librerias\n",
    "import os\n",
    "import pandas as pd\n",
    "import numpy as np\n"
   ]
  },
  {
   "cell_type": "code",
   "execution_count": 2,
   "metadata": {},
   "outputs": [
    {
     "name": "stderr",
     "output_type": "stream",
     "text": [
      "C:\\Users\\Franc\\AppData\\Local\\Temp\\ipykernel_4236\\4104928706.py:3: DtypeWarning: Columns (15) have mixed types. Specify dtype option on import or set low_memory=False.\n",
      "  df = pd.read_csv(file, encoding=\"latin-1\")\n"
     ]
    }
   ],
   "source": [
    "script = os.getcwd()\n",
    "file = os.path.join(script, \"data\", \"BD_IncendiosSNIF_2015-2023.csv\")\n",
    "df = pd.read_csv(file, encoding=\"latin-1\")"
   ]
  },
  {
   "cell_type": "code",
   "execution_count": 26,
   "metadata": {},
   "outputs": [
    {
     "data": {
      "text/html": [
       "<div>\n",
       "<style scoped>\n",
       "    .dataframe tbody tr th:only-of-type {\n",
       "        vertical-align: middle;\n",
       "    }\n",
       "\n",
       "    .dataframe tbody tr th {\n",
       "        vertical-align: top;\n",
       "    }\n",
       "\n",
       "    .dataframe thead th {\n",
       "        text-align: right;\n",
       "    }\n",
       "</style>\n",
       "<table border=\"1\" class=\"dataframe\">\n",
       "  <thead>\n",
       "    <tr style=\"text-align: right;\">\n",
       "      <th></th>\n",
       "      <th>Año</th>\n",
       "      <th>Latitud</th>\n",
       "      <th>Longitud</th>\n",
       "      <th>Estado</th>\n",
       "      <th>Municipio</th>\n",
       "      <th>Región</th>\n",
       "      <th>Predio</th>\n",
       "      <th>Fecha Inicio</th>\n",
       "      <th>Fecha Termino</th>\n",
       "      <th>Duración días</th>\n",
       "      <th>...</th>\n",
       "      <th>Renuevo</th>\n",
       "      <th>Arbustivo</th>\n",
       "      <th>Herbáceo</th>\n",
       "      <th>Hojarasca</th>\n",
       "      <th>Total hectáreas</th>\n",
       "      <th>Tamaño</th>\n",
       "      <th>Detección</th>\n",
       "      <th>Llegada</th>\n",
       "      <th>Duración</th>\n",
       "      <th>Causa</th>\n",
       "    </tr>\n",
       "  </thead>\n",
       "  <tbody>\n",
       "    <tr>\n",
       "      <th>40764</th>\n",
       "      <td>2021</td>\n",
       "      <td>19.142886</td>\n",
       "      <td>-99.013539</td>\n",
       "      <td>Ciudad de México</td>\n",
       "      <td>Milpa Alta</td>\n",
       "      <td>Centro</td>\n",
       "      <td>B.C. San Lorenzo Tlacoyucan</td>\n",
       "      <td>02/01/2021</td>\n",
       "      <td>02/01/2021</td>\n",
       "      <td>1 Día</td>\n",
       "      <td>...</td>\n",
       "      <td>0.0</td>\n",
       "      <td>0.5</td>\n",
       "      <td>2.5</td>\n",
       "      <td>0.0</td>\n",
       "      <td>3.0</td>\n",
       "      <td>0 a 5 Hectáreas</td>\n",
       "      <td>12:05:00 a. m.</td>\n",
       "      <td>01:25:00 a. m.</td>\n",
       "      <td>03:30:00 a. m.</td>\n",
       "      <td>Actividades Ilícitas</td>\n",
       "    </tr>\n",
       "    <tr>\n",
       "      <th>7738</th>\n",
       "      <td>2016</td>\n",
       "      <td>19.142778</td>\n",
       "      <td>-101.618417</td>\n",
       "      <td>Michoacán</td>\n",
       "      <td>Turicato</td>\n",
       "      <td>Occidente</td>\n",
       "      <td>Ej. Turicato</td>\n",
       "      <td>12/04/2016</td>\n",
       "      <td>12/04/2016</td>\n",
       "      <td>1 Día</td>\n",
       "      <td>...</td>\n",
       "      <td>1.1</td>\n",
       "      <td>3.0</td>\n",
       "      <td>4.0</td>\n",
       "      <td>0.0</td>\n",
       "      <td>10.1</td>\n",
       "      <td>6 a 10 Hectáreas</td>\n",
       "      <td>12:10:00 a. m.</td>\n",
       "      <td>01:00:00 a. m.</td>\n",
       "      <td>07:00:00 a. m.</td>\n",
       "      <td>Actividades Ilícitas</td>\n",
       "    </tr>\n",
       "    <tr>\n",
       "      <th>41241</th>\n",
       "      <td>2021</td>\n",
       "      <td>19.348333</td>\n",
       "      <td>-99.429192</td>\n",
       "      <td>Ciudad de México</td>\n",
       "      <td>Lerma</td>\n",
       "      <td>Centro</td>\n",
       "      <td>Ejido Santiago Analco / El Encinal</td>\n",
       "      <td>06/02/2021</td>\n",
       "      <td>06/02/2021</td>\n",
       "      <td>1 Día</td>\n",
       "      <td>...</td>\n",
       "      <td>0.0</td>\n",
       "      <td>2.5</td>\n",
       "      <td>1.5</td>\n",
       "      <td>0.0</td>\n",
       "      <td>4.0</td>\n",
       "      <td>0 a 5 Hectáreas</td>\n",
       "      <td>12:05:00 a. m.</td>\n",
       "      <td>01:00:00 a. m.</td>\n",
       "      <td>06:30:00 a. m.</td>\n",
       "      <td>Actividades Ilícitas</td>\n",
       "    </tr>\n",
       "  </tbody>\n",
       "</table>\n",
       "<p>3 rows × 25 columns</p>\n",
       "</div>"
      ],
      "text/plain": [
       "        Año    Latitud    Longitud            Estado   Municipio     Región  \\\n",
       "40764  2021  19.142886  -99.013539  Ciudad de México  Milpa Alta     Centro   \n",
       "7738   2016  19.142778 -101.618417         Michoacán    Turicato  Occidente   \n",
       "41241  2021  19.348333  -99.429192  Ciudad de México       Lerma     Centro   \n",
       "\n",
       "                                   Predio Fecha Inicio Fecha Termino  \\\n",
       "40764         B.C. San Lorenzo Tlacoyucan   02/01/2021    02/01/2021   \n",
       "7738                         Ej. Turicato   12/04/2016    12/04/2016   \n",
       "41241  Ejido Santiago Analco / El Encinal   06/02/2021    06/02/2021   \n",
       "\n",
       "      Duración días  ... Renuevo Arbustivo Herbáceo Hojarasca  \\\n",
       "40764         1 Día  ...     0.0       0.5      2.5       0.0   \n",
       "7738          1 Día  ...     1.1       3.0      4.0       0.0   \n",
       "41241         1 Día  ...     0.0       2.5      1.5       0.0   \n",
       "\n",
       "       Total hectáreas            Tamaño       Detección         Llegada  \\\n",
       "40764              3.0   0 a 5 Hectáreas  12:05:00 a. m.  01:25:00 a. m.   \n",
       "7738              10.1  6 a 10 Hectáreas  12:10:00 a. m.  01:00:00 a. m.   \n",
       "41241              4.0   0 a 5 Hectáreas  12:05:00 a. m.  01:00:00 a. m.   \n",
       "\n",
       "             Duración                 Causa  \n",
       "40764  03:30:00 a. m.  Actividades Ilícitas  \n",
       "7738   07:00:00 a. m.  Actividades Ilícitas  \n",
       "41241  06:30:00 a. m.  Actividades Ilícitas  \n",
       "\n",
       "[3 rows x 25 columns]"
      ]
     },
     "execution_count": 26,
     "metadata": {},
     "output_type": "execute_result"
    }
   ],
   "source": [
    "df.sample(3)"
   ]
  },
  {
   "cell_type": "markdown",
   "metadata": {},
   "source": [
    "## Exploración de datos y limpieza"
   ]
  },
  {
   "cell_type": "markdown",
   "metadata": {},
   "source": [
    "Comenzaremos por eliminar aquellos espacios en blanco y cambiarlos por \"0\" para tratarlos después."
   ]
  },
  {
   "cell_type": "code",
   "execution_count": 3,
   "metadata": {},
   "outputs": [],
   "source": [
    "df.replace(\" \", 0, inplace=True)\n",
    "df[\"Renuevo\"] = df[\"Renuevo\"].astype(float) "
   ]
  },
  {
   "cell_type": "markdown",
   "metadata": {},
   "source": [
    "Ahora corrobaremos que nuestros datos hayan sido leídos correctamente y tengamos los tipos de datos correctos"
   ]
  },
  {
   "cell_type": "code",
   "execution_count": 5,
   "metadata": {},
   "outputs": [
    {
     "name": "stdout",
     "output_type": "stream",
     "text": [
      "<class 'pandas.core.frame.DataFrame'>\n",
      "RangeIndex: 62441 entries, 0 to 62440\n",
      "Data columns (total 25 columns):\n",
      " #   Column            Non-Null Count  Dtype  \n",
      "---  ------            --------------  -----  \n",
      " 0   Año               62441 non-null  int64  \n",
      " 1   Latitud           62441 non-null  float64\n",
      " 2   Longitud          62441 non-null  float64\n",
      " 3   Estado            62441 non-null  object \n",
      " 4   Municipio         62441 non-null  object \n",
      " 5   Región            62441 non-null  object \n",
      " 6   Predio            62441 non-null  object \n",
      " 7   Fecha Inicio      62438 non-null  object \n",
      " 8   Fecha Termino     62441 non-null  object \n",
      " 9   Duración días     62440 non-null  object \n",
      " 10  Tipo de incendio  62441 non-null  object \n",
      " 11  Tipo Vegetación   62441 non-null  object \n",
      " 12  Régimen de fuego  62441 non-null  object \n",
      " 13  Tipo impacto      62441 non-null  object \n",
      " 14  Arbolado Adulto   54758 non-null  float64\n",
      " 15  Renuevo           61506 non-null  float64\n",
      " 16  Arbustivo         61918 non-null  float64\n",
      " 17  Herbáceo          62002 non-null  float64\n",
      " 18  Hojarasca         62141 non-null  float64\n",
      " 19  Total hectáreas   62441 non-null  float64\n",
      " 20  Tamaño            62441 non-null  object \n",
      " 21  Detección         62441 non-null  object \n",
      " 22  Llegada           62441 non-null  object \n",
      " 23  Duración          62441 non-null  object \n",
      " 24  Causa             62441 non-null  object \n",
      "dtypes: float64(8), int64(1), object(16)\n",
      "memory usage: 11.9+ MB\n"
     ]
    }
   ],
   "source": [
    "df.info()"
   ]
  },
  {
   "cell_type": "markdown",
   "metadata": {},
   "source": [
    "En esta sección trataremos los valores categoricos para normalizar nuestras respuestas, ya que hay mucha variabilidad entre respuestas."
   ]
  },
  {
   "cell_type": "code",
   "execution_count": 6,
   "metadata": {},
   "outputs": [],
   "source": [
    "estados = {\n",
    "    'Ciudad De México':'Ciudad de México',\n",
    "    'México':'Ciudad de México'\n",
    "}\n",
    "\n",
    "df[\"Estado\"] = df[\"Estado\"].replace(estados) "
   ]
  },
  {
   "cell_type": "code",
   "execution_count": 7,
   "metadata": {},
   "outputs": [],
   "source": [
    "municipios = { \n",
    "    \"Alamos\":\"Álamos\",\n",
    "    \"Angel Albino Corzo\":\"Ángel Albino Corzo\"\n",
    "}\n",
    "df['Municipio'] = df['Municipio'].replace(municipios)"
   ]
  },
  {
   "cell_type": "code",
   "execution_count": 8,
   "metadata": {},
   "outputs": [],
   "source": [
    "df[\"Duración días\"] = df[\"Duración días\"].replace(\"#¡REF!\", '0') "
   ]
  },
  {
   "cell_type": "code",
   "execution_count": 9,
   "metadata": {},
   "outputs": [],
   "source": [
    "incendios = {\n",
    "    'superficial':'Superficial',\n",
    "    'SUPERFICIAL':'Superficial',\n",
    "    'mixto':'Mixto',\n",
    "    '0':\"Desconocido\"\n",
    "}\n",
    "df[\"Tipo de incendio\"] = df[\"Tipo de incendio\"].replace(incendios)"
   ]
  },
  {
   "cell_type": "code",
   "execution_count": 10,
   "metadata": {},
   "outputs": [],
   "source": [
    "vegetacion = {\n",
    "    '0':\"Desconocida\",\n",
    "    \"Bosque Mesofilo - BM\": \"Bosque Mesófilo - BM\",\n",
    "    \"Matorral Desertico Micrófilo\":\"Matorral Desértico Micrófilo\",\n",
    "    \"Matorral Desertico Rosetófilo\":\"Matorral Desértico Rosetófilo\",\n",
    "    \"Matorral Sarco-Crasicaule\":\"Matorral Sarcocrasicaule\",\n",
    "    \"Pastizal Gypsófilo\":\"Pastizal Gipsófilo\",\n",
    "    \"Vegetación Halofila Hidrófila\":\"Vegetación Halófila Hidrófila\",\n",
    "}\n",
    "df['Tipo Vegetación'] = df['Tipo Vegetación'].replace(vegetacion)"
   ]
  },
  {
   "cell_type": "code",
   "execution_count": 11,
   "metadata": {},
   "outputs": [],
   "source": [
    "impactos = {'Impacto Mínimo':\"Impacto Minimo\",\n",
    "'impacto mínimo':\"Impacto Minimo\",\n",
    "'impacto Mínimo':\"Impacto Minimo\",\n",
    "'Impacto mínimo':\"Impacto Minimo\",\n",
    "'Impacto MÍnImo':\"Impacto Minimo\",\n",
    "'impacto moderado':'Impacto Moderado',\n",
    "'Impacto moderado':'Impacto Moderado',\n",
    "'impacto severo':'Impacto Severo',\n",
    "'Impacto severo':'Impacto Severo',\n",
    "'0':\"Impacto Nulo\",\n",
    "}\n",
    "df[\"Tipo impacto\"] = df[\"Tipo impacto\"].replace(impactos)"
   ]
  },
  {
   "cell_type": "code",
   "execution_count": 12,
   "metadata": {},
   "outputs": [],
   "source": [
    "df[\"Tamaño\"] = df[\"Tamaño\"].replace({'0':\"Desconocido\"})"
   ]
  },
  {
   "cell_type": "code",
   "execution_count": 13,
   "metadata": {},
   "outputs": [],
   "source": [
    "causas = {\n",
    "    'fumadores':\"Fumadores\",\n",
    "    'actividades pecuarias':\"Actividades Pecuarias\",\n",
    "    'Actividades pecuarias':\"Actividades Pecuarias\",\n",
    "    'cazadores':\"Cazadores\",\n",
    "    'actividades ilícitas':\"Actividades Ilícitas\",\n",
    "    'Quema de basureros':\"Quema de Basureros\",\n",
    "    'Otras actividades productivas':\"Otras Actividades Productivas\",\n",
    "    'Residuos de aprovechamiento forestal':\"Residuos de Aprovechamiento Forestal\",\n",
    "    'fogatas':\"Fogatas\",\n",
    "    'Actividades agrícolas':\"Actividades Agrícolas\",\n",
    "    'DESCONOCIDAS':\"Desconocidas\",\n",
    "    'Actividades ilícitas': \"Actividades Ilícitas\"\n",
    "}\n",
    "df[\"Causa\"] = df[\"Causa\"].replace(causas) "
   ]
  },
  {
   "cell_type": "markdown",
   "metadata": {},
   "source": [
    "Una vez que ya estén normalizadas las respuestas procederemos a limpiar los datos nulos o con valores \"0\" que asginamos anteriormente."
   ]
  },
  {
   "cell_type": "code",
   "execution_count": 33,
   "metadata": {},
   "outputs": [
    {
     "name": "stdout",
     "output_type": "stream",
     "text": [
      "<class 'pandas.core.frame.DataFrame'>\n",
      "RangeIndex: 62441 entries, 0 to 62440\n",
      "Data columns (total 25 columns):\n",
      " #   Column            Non-Null Count  Dtype  \n",
      "---  ------            --------------  -----  \n",
      " 0   Año               62441 non-null  int64  \n",
      " 1   Latitud           62441 non-null  float64\n",
      " 2   Longitud          62441 non-null  float64\n",
      " 3   Estado            62441 non-null  object \n",
      " 4   Municipio         62441 non-null  object \n",
      " 5   Región            62441 non-null  object \n",
      " 6   Predio            62441 non-null  object \n",
      " 7   Fecha Inicio      62438 non-null  object \n",
      " 8   Fecha Termino     62441 non-null  object \n",
      " 9   Duración días     62441 non-null  object \n",
      " 10  Tipo de incendio  62441 non-null  object \n",
      " 11  Tipo Vegetación   62441 non-null  object \n",
      " 12  Régimen de fuego  62441 non-null  object \n",
      " 13  Tipo impacto      62441 non-null  object \n",
      " 14  Arbolado Adulto   54758 non-null  float64\n",
      " 15  Renuevo           61506 non-null  float64\n",
      " 16  Arbustivo         61918 non-null  float64\n",
      " 17  Herbáceo          62002 non-null  float64\n",
      " 18  Hojarasca         62141 non-null  float64\n",
      " 19  Total hectáreas   62441 non-null  float64\n",
      " 20  Tamaño            62441 non-null  object \n",
      " 21  Detección         62441 non-null  object \n",
      " 22  Llegada           62441 non-null  object \n",
      " 23  Duración          62441 non-null  object \n",
      " 24  Causa             62441 non-null  object \n",
      "dtypes: float64(8), int64(1), object(16)\n",
      "memory usage: 11.9+ MB\n"
     ]
    }
   ],
   "source": [
    "df.info()"
   ]
  },
  {
   "cell_type": "code",
   "execution_count": 27,
   "metadata": {},
   "outputs": [
    {
     "data": {
      "text/plain": [
       "array(['2 a 3 Días', '1 Día', '4 a 7 Días', '0', 'Mayor de 7 Días', nan],\n",
       "      dtype=object)"
      ]
     },
     "execution_count": 27,
     "metadata": {},
     "output_type": "execute_result"
    }
   ],
   "source": [
    "df[\"Duración días\"].unique()"
   ]
  },
  {
   "cell_type": "code",
   "execution_count": 25,
   "metadata": {},
   "outputs": [
    {
     "data": {
      "text/html": [
       "<div>\n",
       "<style scoped>\n",
       "    .dataframe tbody tr th:only-of-type {\n",
       "        vertical-align: middle;\n",
       "    }\n",
       "\n",
       "    .dataframe tbody tr th {\n",
       "        vertical-align: top;\n",
       "    }\n",
       "\n",
       "    .dataframe thead th {\n",
       "        text-align: right;\n",
       "    }\n",
       "</style>\n",
       "<table border=\"1\" class=\"dataframe\">\n",
       "  <thead>\n",
       "    <tr style=\"text-align: right;\">\n",
       "      <th></th>\n",
       "      <th>Año</th>\n",
       "      <th>Latitud</th>\n",
       "      <th>Longitud</th>\n",
       "      <th>Estado</th>\n",
       "      <th>Municipio</th>\n",
       "      <th>Región</th>\n",
       "      <th>Predio</th>\n",
       "      <th>Fecha Inicio</th>\n",
       "      <th>Fecha Termino</th>\n",
       "      <th>Duración días</th>\n",
       "      <th>...</th>\n",
       "      <th>Renuevo</th>\n",
       "      <th>Arbustivo</th>\n",
       "      <th>Herbáceo</th>\n",
       "      <th>Hojarasca</th>\n",
       "      <th>Total hectáreas</th>\n",
       "      <th>Tamaño</th>\n",
       "      <th>Detección</th>\n",
       "      <th>Llegada</th>\n",
       "      <th>Duración</th>\n",
       "      <th>Causa</th>\n",
       "    </tr>\n",
       "  </thead>\n",
       "  <tbody>\n",
       "    <tr>\n",
       "      <th>2064</th>\n",
       "      <td>2015</td>\n",
       "      <td>24.788611</td>\n",
       "      <td>-100.130833</td>\n",
       "      <td>Nuevo León</td>\n",
       "      <td>Galeana</td>\n",
       "      <td>Noreste</td>\n",
       "      <td>Ejido La Laguna</td>\n",
       "      <td>21/04/2015</td>\n",
       "      <td>21/04/2015</td>\n",
       "      <td>NaN</td>\n",
       "      <td>...</td>\n",
       "      <td>0.0</td>\n",
       "      <td>0.0</td>\n",
       "      <td>0.05</td>\n",
       "      <td>0.05</td>\n",
       "      <td>0.1</td>\n",
       "      <td>0 a 5 Hectáreas</td>\n",
       "      <td>01:00:00 a. m.</td>\n",
       "      <td>12:40:00 a. m.</td>\n",
       "      <td>02:45:00 a. m.</td>\n",
       "      <td>Naturales</td>\n",
       "    </tr>\n",
       "  </tbody>\n",
       "</table>\n",
       "<p>1 rows × 25 columns</p>\n",
       "</div>"
      ],
      "text/plain": [
       "       Año    Latitud    Longitud      Estado Municipio   Región  \\\n",
       "2064  2015  24.788611 -100.130833  Nuevo León   Galeana  Noreste   \n",
       "\n",
       "               Predio Fecha Inicio Fecha Termino Duración días  ... Renuevo  \\\n",
       "2064  Ejido La Laguna   21/04/2015    21/04/2015           NaN  ...     0.0   \n",
       "\n",
       "     Arbustivo Herbáceo Hojarasca  Total hectáreas           Tamaño  \\\n",
       "2064       0.0     0.05      0.05              0.1  0 a 5 Hectáreas   \n",
       "\n",
       "           Detección         Llegada        Duración      Causa  \n",
       "2064  01:00:00 a. m.  12:40:00 a. m.  02:45:00 a. m.  Naturales  \n",
       "\n",
       "[1 rows x 25 columns]"
      ]
     },
     "execution_count": 25,
     "metadata": {},
     "output_type": "execute_result"
    }
   ],
   "source": [
    "df[df[\"Duración días\"].isnull()]"
   ]
  },
  {
   "cell_type": "code",
   "execution_count": 32,
   "metadata": {},
   "outputs": [
    {
     "data": {
      "text/plain": [
       "'1 Día'"
      ]
     },
     "execution_count": 32,
     "metadata": {},
     "output_type": "execute_result"
    }
   ],
   "source": []
  },
  {
   "cell_type": "code",
   "execution_count": null,
   "metadata": {},
   "outputs": [],
   "source": []
  }
 ],
 "metadata": {
  "kernelspec": {
   "display_name": "Python 3",
   "language": "python",
   "name": "python3"
  },
  "language_info": {
   "codemirror_mode": {
    "name": "ipython",
    "version": 3
   },
   "file_extension": ".py",
   "mimetype": "text/x-python",
   "name": "python",
   "nbconvert_exporter": "python",
   "pygments_lexer": "ipython3",
   "version": "3.11.2"
  }
 },
 "nbformat": 4,
 "nbformat_minor": 2
}
